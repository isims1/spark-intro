{
 "cells": [
  {
   "cell_type": "code",
   "execution_count": 19,
   "metadata": {},
   "outputs": [
    {
     "name": "stdout",
     "output_type": "stream",
     "text": [
      "27\n",
      "23\n"
     ]
    }
   ],
   "source": [
    "# Accumulator example\n",
    "# This example takes an action on a random integer RDD and acculates variables to determine if the integer is od or even.\n",
    "\n",
    "from pyspark.sql.types import IntegerType\n",
    "import random \n",
    "\n",
    "def Rand(start, end, num): \n",
    "    res = [] \n",
    "  \n",
    "    for j in range(num): \n",
    "        res.append(random.randint(start, end)) \n",
    "  \n",
    "    return res \n",
    "\n",
    "dd = Rand(0, 10, 50)\n",
    "\n",
    "rndm_lst = sc.parallelize(dd, 50).glom()\n",
    "\n",
    "evenCount = sc.accumulator(0)\n",
    "oddCount = sc.accumulator(0)\n",
    "def odd_evenCount(inpt_int):\n",
    "    global evenCount, oddCount\n",
    "    if inpt_int % 2 == 0:\n",
    "        evenCount += 1\n",
    "        return \"even\"\n",
    "    else:\n",
    "        oddCount += 1\n",
    "        return \"odd\"\n",
    "\n",
    "result = rndm_lst.map(lambda x: odd_evenCount(x[0]))\n",
    "result.collect()\n",
    "\n",
    "print(evenCount)\n",
    "print(oddCount)\n"
   ]
  },
  {
   "cell_type": "code",
   "execution_count": 29,
   "metadata": {},
   "outputs": [
    {
     "data": {
      "text/plain": [
       "24"
      ]
     },
     "execution_count": 29,
     "metadata": {},
     "output_type": "execute_result"
    }
   ],
   "source": [
    "# Broadcast example\n",
    "# This example takes an action on a random integer RDD and determines if each integer is in a prespecified list of integers.\n",
    "\n",
    "from pyspark.sql.types import IntegerType\n",
    "import random \n",
    "\n",
    "def Rand(start, end, num): \n",
    "    res = [] \n",
    "  \n",
    "    for j in range(num): \n",
    "        res.append(random.randint(start, end)) \n",
    "  \n",
    "    return res \n",
    "\n",
    "dd = Rand(0, 10, 50)\n",
    "\n",
    "rndm_lst = sc.parallelize(dd, 50).glom()\n",
    "\n",
    "num_lst = sc.broadcast([1, 2, 3, 4, 5])\n",
    "\n",
    "def lookupCount(inpt_int, inpt_lst):\n",
    "    if inpt_int in inpt_lst.value:\n",
    "        count = 1\n",
    "        return count\n",
    "    else:\n",
    "        count = 0\n",
    "        return count\n",
    "\n",
    "result = rndm_lst.map(lambda x: lookupCount(x[0], num_lst))\n",
    "result.sum()"
   ]
  }
 ],
 "metadata": {
  "kernelspec": {
   "display_name": "Python 3",
   "language": "python",
   "name": "python3"
  },
  "language_info": {
   "codemirror_mode": {
    "name": "ipython",
    "version": 3
   },
   "file_extension": ".py",
   "mimetype": "text/x-python",
   "name": "python",
   "nbconvert_exporter": "python",
   "pygments_lexer": "ipython3",
   "version": "3.6.7"
  }
 },
 "nbformat": 4,
 "nbformat_minor": 2
}
